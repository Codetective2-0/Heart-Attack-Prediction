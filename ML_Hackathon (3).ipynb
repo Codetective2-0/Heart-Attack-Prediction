{
  "nbformat": 4,
  "nbformat_minor": 0,
  "metadata": {
    "colab": {
      "name": "ML_Hackathon.ipynb",
      "provenance": [],
      "collapsed_sections": []
    },
    "kernelspec": {
      "display_name": "Python 3",
      "name": "python3"
    },
    "language_info": {
      "name": "python"
    }
  },
  "cells": [
    {
      "cell_type": "markdown",
      "metadata": {
        "id": "zuO8GMu7LorP"
      },
      "source": [
        "# **HEALTH CARE: CHECK HEART ATTACK POSSIBILITY**"
      ]
    },
    {
      "cell_type": "markdown",
      "metadata": {
        "id": "cYFlcpHeajsy"
      },
      "source": [
        "Importing our dependencies "
      ]
    },
    {
      "cell_type": "code",
      "metadata": {
        "id": "LPUzHXefItsG"
      },
      "source": [
        "import warnings\n",
        "warnings.filterwarnings('ignore')"
      ],
      "execution_count": 1,
      "outputs": []
    },
    {
      "cell_type": "code",
      "metadata": {
        "id": "naEHsOZILTHZ"
      },
      "source": [
        "import numpy as np # linear algebra\n",
        "import pandas as pd # data processing, CSV file I/O (e.g. pd.read_csv)\n",
        "import matplotlib.pyplot as plt #data visualization\n",
        "import seaborn as sns\n",
        "from operator import add"
      ],
      "execution_count": 2,
      "outputs": []
    },
    {
      "cell_type": "code",
      "metadata": {
        "id": "TJhfn5SyMtKy"
      },
      "source": [
        "from google.colab import files\n",
        "import pandas as pd\n",
        "import numpy as np\n",
        "from sklearn.model_selection import train_test_split\n",
        "from sklearn.feature_selection import SelectKBest\n",
        "from sklearn.feature_selection import chi2"
      ],
      "execution_count": 3,
      "outputs": []
    },
    {
      "cell_type": "markdown",
      "metadata": {
        "id": "Mxy1sbQCax4R"
      },
      "source": [
        "Uploading our dataset. (the .csv file)"
      ]
    },
    {
      "cell_type": "code",
      "metadata": {
        "colab": {
          "resources": {
            "http://localhost:8080/nbextensions/google.colab/files.js": {
              "data": "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",
              "ok": true,
              "headers": [
                [
                  "content-type",
                  "application/javascript"
                ]
              ],
              "status": 200,
              "status_text": ""
            }
          },
          "base_uri": "https://localhost:8080/",
          "height": 110
        },
        "id": "8Aocr4onM-5e",
        "outputId": "e1ba8f29-6d95-4e05-af17-27bc2f78de20"
      },
      "source": [
        "files.upload()"
      ],
      "execution_count": 4,
      "outputs": [
        {
          "output_type": "display_data",
          "data": {
            "text/html": [
              "\n",
              "     <input type=\"file\" id=\"files-3755ada8-ffc1-47e2-b529-827f2dbed5a0\" name=\"files[]\" multiple disabled\n",
              "        style=\"border:none\" />\n",
              "     <output id=\"result-3755ada8-ffc1-47e2-b529-827f2dbed5a0\">\n",
              "      Upload widget is only available when the cell has been executed in the\n",
              "      current browser session. Please rerun this cell to enable.\n",
              "      </output>\n",
              "      <script src=\"/nbextensions/google.colab/files.js\"></script> "
            ],
            "text/plain": [
              "<IPython.core.display.HTML object>"
            ]
          },
          "metadata": {
            "tags": []
          }
        },
        {
          "output_type": "stream",
          "text": [
            "Saving heart.csv to heart (5).csv\n"
          ],
          "name": "stdout"
        },
        {
          "output_type": "execute_result",
          "data": {
            "text/plain": [
              "{'heart.csv': b'\\xef\\xbb\\xbfage,sex,cp,trestbps,chol,fbs,restecg,thalach,exang,oldpeak,slope,ca,thal,target\\r\\n63,1,3,145,233,1,0,150,0,2.3,0,0,1,1\\r\\n37,1,2,130,250,0,1,187,0,3.5,0,0,2,1\\r\\n41,0,1,130,204,0,0,172,0,1.4,2,0,2,1\\r\\n56,1,1,120,236,0,1,178,0,0.8,2,0,2,1\\r\\n57,0,0,120,354,0,1,163,1,0.6,2,0,2,1\\r\\n57,1,0,140,192,0,1,148,0,0.4,1,0,1,1\\r\\n56,0,1,140,294,0,0,153,0,1.3,1,0,2,1\\r\\n44,1,1,120,263,0,1,173,0,0,2,0,3,1\\r\\n52,1,2,172,199,1,1,162,0,0.5,2,0,3,1\\r\\n57,1,2,150,168,0,1,174,0,1.6,2,0,2,1\\r\\n54,1,0,140,239,0,1,160,0,1.2,2,0,2,1\\r\\n48,0,2,130,275,0,1,139,0,0.2,2,0,2,1\\r\\n49,1,1,130,266,0,1,171,0,0.6,2,0,2,1\\r\\n64,1,3,110,211,0,0,144,1,1.8,1,0,2,1\\r\\n58,0,3,150,283,1,0,162,0,1,2,0,2,1\\r\\n50,0,2,120,219,0,1,158,0,1.6,1,0,2,1\\r\\n58,0,2,120,340,0,1,172,0,0,2,0,2,1\\r\\n66,0,3,150,226,0,1,114,0,2.6,0,0,2,1\\r\\n43,1,0,150,247,0,1,171,0,1.5,2,0,2,1\\r\\n69,0,3,140,239,0,1,151,0,1.8,2,2,2,1\\r\\n59,1,0,135,234,0,1,161,0,0.5,1,0,3,1\\r\\n44,1,2,130,233,0,1,179,1,0.4,2,0,2,1\\r\\n42,1,0,140,226,0,1,178,0,0,2,0,2,1\\r\\n61,1,2,150,243,1,1,137,1,1,1,0,2,1\\r\\n40,1,3,140,199,0,1,178,1,1.4,2,0,3,1\\r\\n71,0,1,160,302,0,1,162,0,0.4,2,2,2,1\\r\\n59,1,2,150,212,1,1,157,0,1.6,2,0,2,1\\r\\n51,1,2,110,175,0,1,123,0,0.6,2,0,2,1\\r\\n65,0,2,140,417,1,0,157,0,0.8,2,1,2,1\\r\\n53,1,2,130,197,1,0,152,0,1.2,0,0,2,1\\r\\n41,0,1,105,198,0,1,168,0,0,2,1,2,1\\r\\n65,1,0,120,177,0,1,140,0,0.4,2,0,3,1\\r\\n44,1,1,130,219,0,0,188,0,0,2,0,2,1\\r\\n54,1,2,125,273,0,0,152,0,0.5,0,1,2,1\\r\\n51,1,3,125,213,0,0,125,1,1.4,2,1,2,1\\r\\n46,0,2,142,177,0,0,160,1,1.4,0,0,2,1\\r\\n54,0,2,135,304,1,1,170,0,0,2,0,2,1\\r\\n54,1,2,150,232,0,0,165,0,1.6,2,0,3,1\\r\\n65,0,2,155,269,0,1,148,0,0.8,2,0,2,1\\r\\n65,0,2,160,360,0,0,151,0,0.8,2,0,2,1\\r\\n51,0,2,140,308,0,0,142,0,1.5,2,1,2,1\\r\\n48,1,1,130,245,0,0,180,0,0.2,1,0,2,1\\r\\n45,1,0,104,208,0,0,148,1,3,1,0,2,1\\r\\n53,0,0,130,264,0,0,143,0,0.4,1,0,2,1\\r\\n39,1,2,140,321,0,0,182,0,0,2,0,2,1\\r\\n52,1,1,120,325,0,1,172,0,0.2,2,0,2,1\\r\\n44,1,2,140,235,0,0,180,0,0,2,0,2,1\\r\\n47,1,2,138,257,0,0,156,0,0,2,0,2,1\\r\\n53,0,2,128,216,0,0,115,0,0,2,0,0,1\\r\\n53,0,0,138,234,0,0,160,0,0,2,0,2,1\\r\\n51,0,2,130,256,0,0,149,0,0.5,2,0,2,1\\r\\n66,1,0,120,302,0,0,151,0,0.4,1,0,2,1\\r\\n62,1,2,130,231,0,1,146,0,1.8,1,3,3,1\\r\\n44,0,2,108,141,0,1,175,0,0.6,1,0,2,1\\r\\n63,0,2,135,252,0,0,172,0,0,2,0,2,1\\r\\n52,1,1,134,201,0,1,158,0,0.8,2,1,2,1\\r\\n48,1,0,122,222,0,0,186,0,0,2,0,2,1\\r\\n45,1,0,115,260,0,0,185,0,0,2,0,2,1\\r\\n34,1,3,118,182,0,0,174,0,0,2,0,2,1\\r\\n57,0,0,128,303,0,0,159,0,0,2,1,2,1\\r\\n71,0,2,110,265,1,0,130,0,0,2,1,2,1\\r\\n54,1,1,108,309,0,1,156,0,0,2,0,3,1\\r\\n52,1,3,118,186,0,0,190,0,0,1,0,1,1\\r\\n41,1,1,135,203,0,1,132,0,0,1,0,1,1\\r\\n58,1,2,140,211,1,0,165,0,0,2,0,2,1\\r\\n35,0,0,138,183,0,1,182,0,1.4,2,0,2,1\\r\\n51,1,2,100,222,0,1,143,1,1.2,1,0,2,1\\r\\n45,0,1,130,234,0,0,175,0,0.6,1,0,2,1\\r\\n44,1,1,120,220,0,1,170,0,0,2,0,2,1\\r\\n62,0,0,124,209,0,1,163,0,0,2,0,2,1\\r\\n54,1,2,120,258,0,0,147,0,0.4,1,0,3,1\\r\\n51,1,2,94,227,0,1,154,1,0,2,1,3,1\\r\\n29,1,1,130,204,0,0,202,0,0,2,0,2,1\\r\\n51,1,0,140,261,0,0,186,1,0,2,0,2,1\\r\\n43,0,2,122,213,0,1,165,0,0.2,1,0,2,1\\r\\n55,0,1,135,250,0,0,161,0,1.4,1,0,2,1\\r\\n51,1,2,125,245,1,0,166,0,2.4,1,0,2,1\\r\\n59,1,1,140,221,0,1,164,1,0,2,0,2,1\\r\\n52,1,1,128,205,1,1,184,0,0,2,0,2,1\\r\\n58,1,2,105,240,0,0,154,1,0.6,1,0,3,1\\r\\n41,1,2,112,250,0,1,179,0,0,2,0,2,1\\r\\n45,1,1,128,308,0,0,170,0,0,2,0,2,1\\r\\n60,0,2,102,318,0,1,160,0,0,2,1,2,1\\r\\n52,1,3,152,298,1,1,178,0,1.2,1,0,3,1\\r\\n42,0,0,102,265,0,0,122,0,0.6,1,0,2,1\\r\\n67,0,2,115,564,0,0,160,0,1.6,1,0,3,1\\r\\n68,1,2,118,277,0,1,151,0,1,2,1,3,1\\r\\n46,1,1,101,197,1,1,156,0,0,2,0,3,1\\r\\n54,0,2,110,214,0,1,158,0,1.6,1,0,2,1\\r\\n58,0,0,100,248,0,0,122,0,1,1,0,2,1\\r\\n48,1,2,124,255,1,1,175,0,0,2,2,2,1\\r\\n57,1,0,132,207,0,1,168,1,0,2,0,3,1\\r\\n52,1,2,138,223,0,1,169,0,0,2,4,2,1\\r\\n54,0,1,132,288,1,0,159,1,0,2,1,2,1\\r\\n45,0,1,112,160,0,1,138,0,0,1,0,2,1\\r\\n53,1,0,142,226,0,0,111,1,0,2,0,3,1\\r\\n62,0,0,140,394,0,0,157,0,1.2,1,0,2,1\\r\\n52,1,0,108,233,1,1,147,0,0.1,2,3,3,1\\r\\n43,1,2,130,315,0,1,162,0,1.9,2,1,2,1\\r\\n53,1,2,130,246,1,0,173,0,0,2,3,2,1\\r\\n42,1,3,148,244,0,0,178,0,0.8,2,2,2,1\\r\\n59,1,3,178,270,0,0,145,0,4.2,0,0,3,1\\r\\n63,0,1,140,195,0,1,179,0,0,2,2,2,1\\r\\n42,1,2,120,240,1,1,194,0,0.8,0,0,3,1\\r\\n50,1,2,129,196,0,1,163,0,0,2,0,2,1\\r\\n68,0,2,120,211,0,0,115,0,1.5,1,0,2,1\\r\\n69,1,3,160,234,1,0,131,0,0.1,1,1,2,1\\r\\n45,0,0,138,236,0,0,152,1,0.2,1,0,2,1\\r\\n50,0,1,120,244,0,1,162,0,1.1,2,0,2,1\\r\\n50,0,0,110,254,0,0,159,0,0,2,0,2,1\\r\\n64,0,0,180,325,0,1,154,1,0,2,0,2,1\\r\\n57,1,2,150,126,1,1,173,0,0.2,2,1,3,1\\r\\n64,0,2,140,313,0,1,133,0,0.2,2,0,3,1\\r\\n43,1,0,110,211,0,1,161,0,0,2,0,3,1\\r\\n55,1,1,130,262,0,1,155,0,0,2,0,2,1\\r\\n37,0,2,120,215,0,1,170,0,0,2,0,2,1\\r\\n41,1,2,130,214,0,0,168,0,2,1,0,2,1\\r\\n56,1,3,120,193,0,0,162,0,1.9,1,0,3,1\\r\\n46,0,1,105,204,0,1,172,0,0,2,0,2,1\\r\\n46,0,0,138,243,0,0,152,1,0,1,0,2,1\\r\\n64,0,0,130,303,0,1,122,0,2,1,2,2,1\\r\\n59,1,0,138,271,0,0,182,0,0,2,0,2,1\\r\\n41,0,2,112,268,0,0,172,1,0,2,0,2,1\\r\\n54,0,2,108,267,0,0,167,0,0,2,0,2,1\\r\\n39,0,2,94,199,0,1,179,0,0,2,0,2,1\\r\\n34,0,1,118,210,0,1,192,0,0.7,2,0,2,1\\r\\n47,1,0,112,204,0,1,143,0,0.1,2,0,2,1\\r\\n67,0,2,152,277,0,1,172,0,0,2,1,2,1\\r\\n52,0,2,136,196,0,0,169,0,0.1,1,0,2,1\\r\\n74,0,1,120,269,0,0,121,1,0.2,2,1,2,1\\r\\n54,0,2,160,201,0,1,163,0,0,2,1,2,1\\r\\n49,0,1,134,271,0,1,162,0,0,1,0,2,1\\r\\n42,1,1,120,295,0,1,162,0,0,2,0,2,1\\r\\n41,1,1,110,235,0,1,153,0,0,2,0,2,1\\r\\n41,0,1,126,306,0,1,163,0,0,2,0,2,1\\r\\n49,0,0,130,269,0,1,163,0,0,2,0,2,1\\r\\n60,0,2,120,178,1,1,96,0,0,2,0,2,1\\r\\n62,1,1,128,208,1,0,140,0,0,2,0,2,1\\r\\n57,1,0,110,201,0,1,126,1,1.5,1,0,1,1\\r\\n64,1,0,128,263,0,1,105,1,0.2,1,1,3,1\\r\\n51,0,2,120,295,0,0,157,0,0.6,2,0,2,1\\r\\n43,1,0,115,303,0,1,181,0,1.2,1,0,2,1\\r\\n42,0,2,120,209,0,1,173,0,0,1,0,2,1\\r\\n67,0,0,106,223,0,1,142,0,0.3,2,2,2,1\\r\\n76,0,2,140,197,0,2,116,0,1.1,1,0,2,1\\r\\n70,1,1,156,245,0,0,143,0,0,2,0,2,1\\r\\n44,0,2,118,242,0,1,149,0,0.3,1,1,2,1\\r\\n60,0,3,150,240,0,1,171,0,0.9,2,0,2,1\\r\\n44,1,2,120,226,0,1,169,0,0,2,0,2,1\\r\\n42,1,2,130,180,0,1,150,0,0,2,0,2,1\\r\\n66,1,0,160,228,0,0,138,0,2.3,2,0,1,1\\r\\n71,0,0,112,149,0,1,125,0,1.6,1,0,2,1\\r\\n64,1,3,170,227,0,0,155,0,0.6,1,0,3,1\\r\\n66,0,2,146,278,0,0,152,0,0,1,1,2,1\\r\\n39,0,2,138,220,0,1,152,0,0,1,0,2,1\\r\\n58,0,0,130,197,0,1,131,0,0.6,1,0,2,1\\r\\n47,1,2,130,253,0,1,179,0,0,2,0,2,1\\r\\n35,1,1,122,192,0,1,174,0,0,2,0,2,1\\r\\n58,1,1,125,220,0,1,144,0,0.4,1,4,3,1\\r\\n56,1,1,130,221,0,0,163,0,0,2,0,3,1\\r\\n56,1,1,120,240,0,1,169,0,0,0,0,2,1\\r\\n55,0,1,132,342,0,1,166,0,1.2,2,0,2,1\\r\\n41,1,1,120,157,0,1,182,0,0,2,0,2,1\\r\\n38,1,2,138,175,0,1,173,0,0,2,4,2,1\\r\\n38,1,2,138,175,0,1,173,0,0,2,4,2,1\\r\\n67,1,0,160,286,0,0,108,1,1.5,1,3,2,0\\r\\n67,1,0,120,229,0,0,129,1,2.6,1,2,3,0\\r\\n62,0,0,140,268,0,0,160,0,3.6,0,2,2,0\\r\\n63,1,0,130,254,0,0,147,0,1.4,1,1,3,0\\r\\n53,1,0,140,203,1,0,155,1,3.1,0,0,3,0\\r\\n56,1,2,130,256,1,0,142,1,0.6,1,1,1,0\\r\\n48,1,1,110,229,0,1,168,0,1,0,0,3,0\\r\\n58,1,1,120,284,0,0,160,0,1.8,1,0,2,0\\r\\n58,1,2,132,224,0,0,173,0,3.2,2,2,3,0\\r\\n60,1,0,130,206,0,0,132,1,2.4,1,2,3,0\\r\\n40,1,0,110,167,0,0,114,1,2,1,0,3,0\\r\\n60,1,0,117,230,1,1,160,1,1.4,2,2,3,0\\r\\n64,1,2,140,335,0,1,158,0,0,2,0,2,0\\r\\n43,1,0,120,177,0,0,120,1,2.5,1,0,3,0\\r\\n57,1,0,150,276,0,0,112,1,0.6,1,1,1,0\\r\\n55,1,0,132,353,0,1,132,1,1.2,1,1,3,0\\r\\n65,0,0,150,225,0,0,114,0,1,1,3,3,0\\r\\n61,0,0,130,330,0,0,169,0,0,2,0,2,0\\r\\n58,1,2,112,230,0,0,165,0,2.5,1,1,3,0\\r\\n50,1,0,150,243,0,0,128,0,2.6,1,0,3,0\\r\\n44,1,0,112,290,0,0,153,0,0,2,1,2,0\\r\\n60,1,0,130,253,0,1,144,1,1.4,2,1,3,0\\r\\n54,1,0,124,266,0,0,109,1,2.2,1,1,3,0\\r\\n50,1,2,140,233,0,1,163,0,0.6,1,1,3,0\\r\\n41,1,0,110,172,0,0,158,0,0,2,0,3,0\\r\\n51,0,0,130,305,0,1,142,1,1.2,1,0,3,0\\r\\n58,1,0,128,216,0,0,131,1,2.2,1,3,3,0\\r\\n54,1,0,120,188,0,1,113,0,1.4,1,1,3,0\\r\\n60,1,0,145,282,0,0,142,1,2.8,1,2,3,0\\r\\n60,1,2,140,185,0,0,155,0,3,1,0,2,0\\r\\n59,1,0,170,326,0,0,140,1,3.4,0,0,3,0\\r\\n46,1,2,150,231,0,1,147,0,3.6,1,0,2,0\\r\\n67,1,0,125,254,1,1,163,0,0.2,1,2,3,0\\r\\n62,1,0,120,267,0,1,99,1,1.8,1,2,3,0\\r\\n65,1,0,110,248,0,0,158,0,0.6,2,2,1,0\\r\\n44,1,0,110,197,0,0,177,0,0,2,1,2,0\\r\\n60,1,0,125,258,0,0,141,1,2.8,1,1,3,0\\r\\n58,1,0,150,270,0,0,111,1,0.8,2,0,3,0\\r\\n68,1,2,180,274,1,0,150,1,1.6,1,0,3,0\\r\\n62,0,0,160,164,0,0,145,0,6.2,0,3,3,0\\r\\n52,1,0,128,255,0,1,161,1,0,2,1,3,0\\r\\n59,1,0,110,239,0,0,142,1,1.2,1,1,3,0\\r\\n60,0,0,150,258,0,0,157,0,2.6,1,2,3,0\\r\\n49,1,2,120,188,0,1,139,0,2,1,3,3,0\\r\\n59,1,0,140,177,0,1,162,1,0,2,1,3,0\\r\\n57,1,2,128,229,0,0,150,0,0.4,1,1,3,0\\r\\n61,1,0,120,260,0,1,140,1,3.6,1,1,3,0\\r\\n39,1,0,118,219,0,1,140,0,1.2,1,0,3,0\\r\\n61,0,0,145,307,0,0,146,1,1,1,0,3,0\\r\\n56,1,0,125,249,1,0,144,1,1.2,1,1,2,0\\r\\n43,0,0,132,341,1,0,136,1,3,1,0,3,0\\r\\n62,0,2,130,263,0,1,97,0,1.2,1,1,3,0\\r\\n63,1,0,130,330,1,0,132,1,1.8,2,3,3,0\\r\\n65,1,0,135,254,0,0,127,0,2.8,1,1,3,0\\r\\n48,1,0,130,256,1,0,150,1,0,2,2,3,0\\r\\n63,0,0,150,407,0,0,154,0,4,1,3,3,0\\r\\n55,1,0,140,217,0,1,111,1,5.6,0,0,3,0\\r\\n65,1,3,138,282,1,0,174,0,1.4,1,1,2,0\\r\\n56,0,0,200,288,1,0,133,1,4,0,2,3,0\\r\\n54,1,0,110,239,0,1,126,1,2.8,1,1,3,0\\r\\n70,1,0,145,174,0,1,125,1,2.6,0,0,3,0\\r\\n62,1,1,120,281,0,0,103,0,1.4,1,1,3,0\\r\\n35,1,0,120,198,0,1,130,1,1.6,1,0,3,0\\r\\n59,1,3,170,288,0,0,159,0,0.2,1,0,3,0\\r\\n64,1,2,125,309,0,1,131,1,1.8,1,0,3,0\\r\\n47,1,2,108,243,0,1,152,0,0,2,0,2,0\\r\\n57,1,0,165,289,1,0,124,0,1,1,3,3,0\\r\\n55,1,0,160,289,0,0,145,1,0.8,1,1,3,0\\r\\n64,1,0,120,246,0,0,96,1,2.2,0,1,2,0\\r\\n70,1,0,130,322,0,0,109,0,2.4,1,3,2,0\\r\\n51,1,0,140,299,0,1,173,1,1.6,2,0,3,0\\r\\n58,1,0,125,300,0,0,171,0,0,2,2,3,0\\r\\n60,1,0,140,293,0,0,170,0,1.2,1,2,3,0\\r\\n77,1,0,125,304,0,0,162,1,0,2,3,2,0\\r\\n35,1,0,126,282,0,0,156,1,0,2,0,3,0\\r\\n70,1,2,160,269,0,1,112,1,2.9,1,1,3,0\\r\\n59,0,0,174,249,0,1,143,1,0,1,0,2,0\\r\\n64,1,0,145,212,0,0,132,0,2,1,2,1,0\\r\\n57,1,0,152,274,0,1,88,1,1.2,1,1,3,0\\r\\n56,1,0,132,184,0,0,105,1,2.1,1,1,1,0\\r\\n48,1,0,124,274,0,0,166,0,0.5,1,0,3,0\\r\\n56,0,0,134,409,0,0,150,1,1.9,1,2,3,0\\r\\n66,1,1,160,246,0,1,120,1,0,1,3,1,0\\r\\n54,1,1,192,283,0,0,195,0,0,2,1,3,0\\r\\n69,1,2,140,254,0,0,146,0,2,1,3,3,0\\r\\n51,1,0,140,298,0,1,122,1,4.2,1,3,3,0\\r\\n43,1,0,132,247,1,0,143,1,0.1,1,4,3,0\\r\\n62,0,0,138,294,1,1,106,0,1.9,1,3,2,0\\r\\n67,1,0,100,299,0,0,125,1,0.9,1,2,2,0\\r\\n59,1,3,160,273,0,0,125,0,0,2,0,2,0\\r\\n45,1,0,142,309,0,0,147,1,0,1,3,3,0\\r\\n58,1,0,128,259,0,0,130,1,3,1,2,3,0\\r\\n50,1,0,144,200,0,0,126,1,0.9,1,0,3,0\\r\\n62,0,0,150,244,0,1,154,1,1.4,1,0,2,0\\r\\n38,1,3,120,231,0,1,182,1,3.8,1,0,3,0\\r\\n66,0,0,178,228,1,1,165,1,1,1,2,3,0\\r\\n52,1,0,112,230,0,1,160,0,0,2,1,2,0\\r\\n53,1,0,123,282,0,1,95,1,2,1,2,3,0\\r\\n63,0,0,108,269,0,1,169,1,1.8,1,2,2,0\\r\\n54,1,0,110,206,0,0,108,1,0,1,1,2,0\\r\\n66,1,0,112,212,0,0,132,1,0.1,2,1,2,0\\r\\n55,0,0,180,327,0,2,117,1,3.4,1,0,2,0\\r\\n49,1,2,118,149,0,0,126,0,0.8,2,3,2,0\\r\\n54,1,0,122,286,0,0,116,1,3.2,1,2,2,0\\r\\n56,1,0,130,283,1,0,103,1,1.6,0,0,3,0\\r\\n46,1,0,120,249,0,0,144,0,0.8,2,0,3,0\\r\\n61,1,3,134,234,0,1,145,0,2.6,1,2,2,0\\r\\n67,1,0,120,237,0,1,71,0,1,1,0,2,0\\r\\n58,1,0,100,234,0,1,156,0,0.1,2,1,3,0\\r\\n47,1,0,110,275,0,0,118,1,1,1,1,2,0\\r\\n52,1,0,125,212,0,1,168,0,1,2,2,3,0\\r\\n58,1,0,146,218,0,1,105,0,2,1,1,3,0\\r\\n57,1,1,124,261,0,1,141,0,0.3,2,0,3,0\\r\\n58,0,1,136,319,1,0,152,0,0,2,2,2,0\\r\\n61,1,0,138,166,0,0,125,1,3.6,1,1,2,0\\r\\n42,1,0,136,315,0,1,125,1,1.8,1,0,1,0\\r\\n52,1,0,128,204,1,1,156,1,1,1,0,0,0\\r\\n59,1,2,126,218,1,1,134,0,2.2,1,1,1,0\\r\\n40,1,0,152,223,0,1,181,0,0,2,0,3,0\\r\\n61,1,0,140,207,0,0,138,1,1.9,2,1,3,0\\r\\n46,1,0,140,311,0,1,120,1,1.8,1,2,3,0\\r\\n59,1,3,134,204,0,1,162,0,0.8,2,2,2,0\\r\\n57,1,1,154,232,0,0,164,0,0,2,1,2,0\\r\\n57,1,0,110,335,0,1,143,1,3,1,1,3,0\\r\\n55,0,0,128,205,0,2,130,1,2,1,1,3,0\\r\\n61,1,0,148,203,0,1,161,0,0,2,1,3,0\\r\\n58,1,0,114,318,0,2,140,0,4.4,0,3,1,0\\r\\n58,0,0,170,225,1,0,146,1,2.8,1,2,1,0\\r\\n67,1,2,152,212,0,0,150,0,0.8,1,0,3,0\\r\\n44,1,0,120,169,0,1,144,1,2.8,0,0,1,0\\r\\n63,1,0,140,187,0,0,144,1,4,2,2,3,0\\r\\n63,0,0,124,197,0,1,136,1,0,1,0,2,0\\r\\n59,1,0,164,176,1,0,90,0,1,1,2,1,0\\r\\n57,0,0,140,241,0,1,123,1,0.2,1,0,3,0\\r\\n45,1,3,110,264,0,1,132,0,1.2,1,0,3,0\\r\\n68,1,0,144,193,1,1,141,0,3.4,1,2,3,0\\r\\n57,1,0,130,131,0,1,115,1,1.2,1,1,3,0\\r\\n57,0,1,130,236,0,0,174,0,0,1,1,2,0\\r\\n'}"
            ]
          },
          "metadata": {
            "tags": []
          },
          "execution_count": 4
        }
      ]
    },
    {
      "cell_type": "code",
      "metadata": {
        "id": "ZXlSrdTPNNLF"
      },
      "source": [
        "heart1 = pd.read_csv(\"heart.csv\")"
      ],
      "execution_count": 5,
      "outputs": []
    },
    {
      "cell_type": "markdown",
      "metadata": {
        "id": "cnMRKltia8DX"
      },
      "source": [
        "Handling the Missing Attributes"
      ]
    },
    {
      "cell_type": "code",
      "metadata": {
        "id": "pUdzg6JwdxUe"
      },
      "source": [
        "from sklearn.impute import SimpleImputer\n",
        "imputer = SimpleImputer(strategy=\"median\") #fill the median at empty spaces \n",
        "imputer.fit(heart1)\n",
        "X = imputer.transform(heart1)\n",
        "heart=pd.DataFrame(X, columns=heart1.columns)"
      ],
      "execution_count": 6,
      "outputs": []
    },
    {
      "cell_type": "code",
      "metadata": {
        "colab": {
          "base_uri": "https://localhost:8080/",
          "height": 402
        },
        "id": "meJwEYETONX7",
        "outputId": "794fb9e1-54a5-4a31-f3e0-53a9a10c2a18"
      },
      "source": [
        "heart.head(303) #view the head"
      ],
      "execution_count": 7,
      "outputs": [
        {
          "output_type": "execute_result",
          "data": {
            "text/html": [
              "<div>\n",
              "<style scoped>\n",
              "    .dataframe tbody tr th:only-of-type {\n",
              "        vertical-align: middle;\n",
              "    }\n",
              "\n",
              "    .dataframe tbody tr th {\n",
              "        vertical-align: top;\n",
              "    }\n",
              "\n",
              "    .dataframe thead th {\n",
              "        text-align: right;\n",
              "    }\n",
              "</style>\n",
              "<table border=\"1\" class=\"dataframe\">\n",
              "  <thead>\n",
              "    <tr style=\"text-align: right;\">\n",
              "      <th></th>\n",
              "      <th>age</th>\n",
              "      <th>sex</th>\n",
              "      <th>cp</th>\n",
              "      <th>trestbps</th>\n",
              "      <th>chol</th>\n",
              "      <th>fbs</th>\n",
              "      <th>restecg</th>\n",
              "      <th>thalach</th>\n",
              "      <th>exang</th>\n",
              "      <th>oldpeak</th>\n",
              "      <th>slope</th>\n",
              "      <th>ca</th>\n",
              "      <th>thal</th>\n",
              "      <th>target</th>\n",
              "    </tr>\n",
              "  </thead>\n",
              "  <tbody>\n",
              "    <tr>\n",
              "      <th>0</th>\n",
              "      <td>63.0</td>\n",
              "      <td>1.0</td>\n",
              "      <td>3.0</td>\n",
              "      <td>145.0</td>\n",
              "      <td>233.0</td>\n",
              "      <td>1.0</td>\n",
              "      <td>0.0</td>\n",
              "      <td>150.0</td>\n",
              "      <td>0.0</td>\n",
              "      <td>2.3</td>\n",
              "      <td>0.0</td>\n",
              "      <td>0.0</td>\n",
              "      <td>1.0</td>\n",
              "      <td>1.0</td>\n",
              "    </tr>\n",
              "    <tr>\n",
              "      <th>1</th>\n",
              "      <td>37.0</td>\n",
              "      <td>1.0</td>\n",
              "      <td>2.0</td>\n",
              "      <td>130.0</td>\n",
              "      <td>250.0</td>\n",
              "      <td>0.0</td>\n",
              "      <td>1.0</td>\n",
              "      <td>187.0</td>\n",
              "      <td>0.0</td>\n",
              "      <td>3.5</td>\n",
              "      <td>0.0</td>\n",
              "      <td>0.0</td>\n",
              "      <td>2.0</td>\n",
              "      <td>1.0</td>\n",
              "    </tr>\n",
              "    <tr>\n",
              "      <th>2</th>\n",
              "      <td>41.0</td>\n",
              "      <td>0.0</td>\n",
              "      <td>1.0</td>\n",
              "      <td>130.0</td>\n",
              "      <td>204.0</td>\n",
              "      <td>0.0</td>\n",
              "      <td>0.0</td>\n",
              "      <td>172.0</td>\n",
              "      <td>0.0</td>\n",
              "      <td>1.4</td>\n",
              "      <td>2.0</td>\n",
              "      <td>0.0</td>\n",
              "      <td>2.0</td>\n",
              "      <td>1.0</td>\n",
              "    </tr>\n",
              "    <tr>\n",
              "      <th>3</th>\n",
              "      <td>56.0</td>\n",
              "      <td>1.0</td>\n",
              "      <td>1.0</td>\n",
              "      <td>120.0</td>\n",
              "      <td>236.0</td>\n",
              "      <td>0.0</td>\n",
              "      <td>1.0</td>\n",
              "      <td>178.0</td>\n",
              "      <td>0.0</td>\n",
              "      <td>0.8</td>\n",
              "      <td>2.0</td>\n",
              "      <td>0.0</td>\n",
              "      <td>2.0</td>\n",
              "      <td>1.0</td>\n",
              "    </tr>\n",
              "    <tr>\n",
              "      <th>4</th>\n",
              "      <td>57.0</td>\n",
              "      <td>0.0</td>\n",
              "      <td>0.0</td>\n",
              "      <td>120.0</td>\n",
              "      <td>354.0</td>\n",
              "      <td>0.0</td>\n",
              "      <td>1.0</td>\n",
              "      <td>163.0</td>\n",
              "      <td>1.0</td>\n",
              "      <td>0.6</td>\n",
              "      <td>2.0</td>\n",
              "      <td>0.0</td>\n",
              "      <td>2.0</td>\n",
              "      <td>1.0</td>\n",
              "    </tr>\n",
              "    <tr>\n",
              "      <th>...</th>\n",
              "      <td>...</td>\n",
              "      <td>...</td>\n",
              "      <td>...</td>\n",
              "      <td>...</td>\n",
              "      <td>...</td>\n",
              "      <td>...</td>\n",
              "      <td>...</td>\n",
              "      <td>...</td>\n",
              "      <td>...</td>\n",
              "      <td>...</td>\n",
              "      <td>...</td>\n",
              "      <td>...</td>\n",
              "      <td>...</td>\n",
              "      <td>...</td>\n",
              "    </tr>\n",
              "    <tr>\n",
              "      <th>298</th>\n",
              "      <td>57.0</td>\n",
              "      <td>0.0</td>\n",
              "      <td>0.0</td>\n",
              "      <td>140.0</td>\n",
              "      <td>241.0</td>\n",
              "      <td>0.0</td>\n",
              "      <td>1.0</td>\n",
              "      <td>123.0</td>\n",
              "      <td>1.0</td>\n",
              "      <td>0.2</td>\n",
              "      <td>1.0</td>\n",
              "      <td>0.0</td>\n",
              "      <td>3.0</td>\n",
              "      <td>0.0</td>\n",
              "    </tr>\n",
              "    <tr>\n",
              "      <th>299</th>\n",
              "      <td>45.0</td>\n",
              "      <td>1.0</td>\n",
              "      <td>3.0</td>\n",
              "      <td>110.0</td>\n",
              "      <td>264.0</td>\n",
              "      <td>0.0</td>\n",
              "      <td>1.0</td>\n",
              "      <td>132.0</td>\n",
              "      <td>0.0</td>\n",
              "      <td>1.2</td>\n",
              "      <td>1.0</td>\n",
              "      <td>0.0</td>\n",
              "      <td>3.0</td>\n",
              "      <td>0.0</td>\n",
              "    </tr>\n",
              "    <tr>\n",
              "      <th>300</th>\n",
              "      <td>68.0</td>\n",
              "      <td>1.0</td>\n",
              "      <td>0.0</td>\n",
              "      <td>144.0</td>\n",
              "      <td>193.0</td>\n",
              "      <td>1.0</td>\n",
              "      <td>1.0</td>\n",
              "      <td>141.0</td>\n",
              "      <td>0.0</td>\n",
              "      <td>3.4</td>\n",
              "      <td>1.0</td>\n",
              "      <td>2.0</td>\n",
              "      <td>3.0</td>\n",
              "      <td>0.0</td>\n",
              "    </tr>\n",
              "    <tr>\n",
              "      <th>301</th>\n",
              "      <td>57.0</td>\n",
              "      <td>1.0</td>\n",
              "      <td>0.0</td>\n",
              "      <td>130.0</td>\n",
              "      <td>131.0</td>\n",
              "      <td>0.0</td>\n",
              "      <td>1.0</td>\n",
              "      <td>115.0</td>\n",
              "      <td>1.0</td>\n",
              "      <td>1.2</td>\n",
              "      <td>1.0</td>\n",
              "      <td>1.0</td>\n",
              "      <td>3.0</td>\n",
              "      <td>0.0</td>\n",
              "    </tr>\n",
              "    <tr>\n",
              "      <th>302</th>\n",
              "      <td>57.0</td>\n",
              "      <td>0.0</td>\n",
              "      <td>1.0</td>\n",
              "      <td>130.0</td>\n",
              "      <td>236.0</td>\n",
              "      <td>0.0</td>\n",
              "      <td>0.0</td>\n",
              "      <td>174.0</td>\n",
              "      <td>0.0</td>\n",
              "      <td>0.0</td>\n",
              "      <td>1.0</td>\n",
              "      <td>1.0</td>\n",
              "      <td>2.0</td>\n",
              "      <td>0.0</td>\n",
              "    </tr>\n",
              "  </tbody>\n",
              "</table>\n",
              "<p>303 rows × 14 columns</p>\n",
              "</div>"
            ],
            "text/plain": [
              "      age  sex   cp  trestbps   chol  ...  oldpeak  slope   ca  thal  target\n",
              "0    63.0  1.0  3.0     145.0  233.0  ...      2.3    0.0  0.0   1.0     1.0\n",
              "1    37.0  1.0  2.0     130.0  250.0  ...      3.5    0.0  0.0   2.0     1.0\n",
              "2    41.0  0.0  1.0     130.0  204.0  ...      1.4    2.0  0.0   2.0     1.0\n",
              "3    56.0  1.0  1.0     120.0  236.0  ...      0.8    2.0  0.0   2.0     1.0\n",
              "4    57.0  0.0  0.0     120.0  354.0  ...      0.6    2.0  0.0   2.0     1.0\n",
              "..    ...  ...  ...       ...    ...  ...      ...    ...  ...   ...     ...\n",
              "298  57.0  0.0  0.0     140.0  241.0  ...      0.2    1.0  0.0   3.0     0.0\n",
              "299  45.0  1.0  3.0     110.0  264.0  ...      1.2    1.0  0.0   3.0     0.0\n",
              "300  68.0  1.0  0.0     144.0  193.0  ...      3.4    1.0  2.0   3.0     0.0\n",
              "301  57.0  1.0  0.0     130.0  131.0  ...      1.2    1.0  1.0   3.0     0.0\n",
              "302  57.0  0.0  1.0     130.0  236.0  ...      0.0    1.0  1.0   2.0     0.0\n",
              "\n",
              "[303 rows x 14 columns]"
            ]
          },
          "metadata": {
            "tags": []
          },
          "execution_count": 7
        }
      ]
    },
    {
      "cell_type": "markdown",
      "metadata": {
        "id": "elZo9kAYbQ7-"
      },
      "source": [
        "# **Data Analysis**"
      ]
    },
    {
      "cell_type": "code",
      "metadata": {
        "colab": {
          "base_uri": "https://localhost:8080/",
          "height": 1000
        },
        "id": "X3a2uN_y03BX",
        "outputId": "2b514925-82a4-4f65-81df-8df77f7af383"
      },
      "source": [
        "# plot histogram to see the distribution of the data\n",
        "fig = plt.figure(figsize = (15,20))\n",
        "ax = fig.gca()\n",
        "heart1.hist(ax = ax)\n",
        "plt.show()"
      ],
      "execution_count": 8,
      "outputs": [
        {
          "output_type": "display_data",
          "data": {
            "image/png": "[encoded data removed]",
            "text/plain": [
              "<Figure size 1080x1440 with 16 Axes>"
            ]
          },
          "metadata": {
            "tags": [],
            "needs_background": "light"
          }
        }
      ]
    },
    {
      "cell_type": "markdown",
      "metadata": {
        "id": "N1SNC9b0_sfS"
      },
      "source": [
        "## **Feature Selection**"
      ]
    },
    {
      "cell_type": "code",
      "metadata": {
        "id": "KPrQx7yRFqnN"
      },
      "source": [
        "X = heart.iloc[:,:-1]\n",
        "y = heart.iloc[:,-1]\n",
        "\n",
        "bestfeatures = SelectKBest(score_func=chi2, k=10)\n",
        "fit = bestfeatures.fit(X,y)"
      ],
      "execution_count": 9,
      "outputs": []
    },
    {
      "cell_type": "code",
      "metadata": {
        "id": "c0_dY_1VFsxu"
      },
      "source": [
        "dfscores = pd.DataFrame(fit.scores_)\n",
        "dfcolumns = pd.DataFrame(X.columns)"
      ],
      "execution_count": 10,
      "outputs": []
    },
    {
      "cell_type": "code",
      "metadata": {
        "id": "MlmDkaIeFyLL"
      },
      "source": [
        "#concat two dataframes for better visualization \n",
        "featureScores = pd.concat([dfcolumns,dfscores],axis=1)\n",
        "featureScores.columns = ['Specs','Score']  #naming the dataframe columns"
      ],
      "execution_count": 11,
      "outputs": []
    },
    {
      "cell_type": "code",
      "metadata": {
        "colab": {
          "base_uri": "https://localhost:8080/",
          "height": 432
        },
        "id": "OWWe_eW3F1KI",
        "outputId": "72912dc2-2dfc-40c6-d417-d980352819b6"
      },
      "source": [
        "featureScores"
      ],
      "execution_count": 12,
      "outputs": [
        {
          "output_type": "execute_result",
          "data": {
            "text/html": [
              "<div>\n",
              "<style scoped>\n",
              "    .dataframe tbody tr th:only-of-type {\n",
              "        vertical-align: middle;\n",
              "    }\n",
              "\n",
              "    .dataframe tbody tr th {\n",
              "        vertical-align: top;\n",
              "    }\n",
              "\n",
              "    .dataframe thead th {\n",
              "        text-align: right;\n",
              "    }\n",
              "</style>\n",
              "<table border=\"1\" class=\"dataframe\">\n",
              "  <thead>\n",
              "    <tr style=\"text-align: right;\">\n",
              "      <th></th>\n",
              "      <th>Specs</th>\n",
              "      <th>Score</th>\n",
              "    </tr>\n",
              "  </thead>\n",
              "  <tbody>\n",
              "    <tr>\n",
              "      <th>0</th>\n",
              "      <td>age</td>\n",
              "      <td>23.286624</td>\n",
              "    </tr>\n",
              "    <tr>\n",
              "      <th>1</th>\n",
              "      <td>sex</td>\n",
              "      <td>7.576835</td>\n",
              "    </tr>\n",
              "    <tr>\n",
              "      <th>2</th>\n",
              "      <td>cp</td>\n",
              "      <td>62.598098</td>\n",
              "    </tr>\n",
              "    <tr>\n",
              "      <th>3</th>\n",
              "      <td>trestbps</td>\n",
              "      <td>14.823925</td>\n",
              "    </tr>\n",
              "    <tr>\n",
              "      <th>4</th>\n",
              "      <td>chol</td>\n",
              "      <td>23.936394</td>\n",
              "    </tr>\n",
              "    <tr>\n",
              "      <th>5</th>\n",
              "      <td>fbs</td>\n",
              "      <td>0.202934</td>\n",
              "    </tr>\n",
              "    <tr>\n",
              "      <th>6</th>\n",
              "      <td>restecg</td>\n",
              "      <td>2.978271</td>\n",
              "    </tr>\n",
              "    <tr>\n",
              "      <th>7</th>\n",
              "      <td>thalach</td>\n",
              "      <td>188.320472</td>\n",
              "    </tr>\n",
              "    <tr>\n",
              "      <th>8</th>\n",
              "      <td>exang</td>\n",
              "      <td>38.914377</td>\n",
              "    </tr>\n",
              "    <tr>\n",
              "      <th>9</th>\n",
              "      <td>oldpeak</td>\n",
              "      <td>72.644253</td>\n",
              "    </tr>\n",
              "    <tr>\n",
              "      <th>10</th>\n",
              "      <td>slope</td>\n",
              "      <td>9.804095</td>\n",
              "    </tr>\n",
              "    <tr>\n",
              "      <th>11</th>\n",
              "      <td>ca</td>\n",
              "      <td>66.440765</td>\n",
              "    </tr>\n",
              "    <tr>\n",
              "      <th>12</th>\n",
              "      <td>thal</td>\n",
              "      <td>5.791853</td>\n",
              "    </tr>\n",
              "  </tbody>\n",
              "</table>\n",
              "</div>"
            ],
            "text/plain": [
              "       Specs       Score\n",
              "0        age   23.286624\n",
              "1        sex    7.576835\n",
              "2         cp   62.598098\n",
              "3   trestbps   14.823925\n",
              "4       chol   23.936394\n",
              "5        fbs    0.202934\n",
              "6    restecg    2.978271\n",
              "7    thalach  188.320472\n",
              "8      exang   38.914377\n",
              "9    oldpeak   72.644253\n",
              "10     slope    9.804095\n",
              "11        ca   66.440765\n",
              "12      thal    5.791853"
            ]
          },
          "metadata": {
            "tags": []
          },
          "execution_count": 12
        }
      ]
    },
    {
      "cell_type": "code",
      "metadata": {
        "colab": {
          "base_uri": "https://localhost:8080/"
        },
        "id": "-hzjAWzgF3Qf",
        "outputId": "75d49079-dfd8-4b5a-8a35-ca84c3322196"
      },
      "source": [
        "print(featureScores.nlargest(6,'Score'))"
      ],
      "execution_count": 13,
      "outputs": [
        {
          "output_type": "stream",
          "text": [
            "      Specs       Score\n",
            "7   thalach  188.320472\n",
            "9   oldpeak   72.644253\n",
            "11       ca   66.440765\n",
            "2        cp   62.598098\n",
            "8     exang   38.914377\n",
            "4      chol   23.936394\n"
          ],
          "name": "stdout"
        }
      ]
    },
    {
      "cell_type": "markdown",
      "metadata": {
        "id": "TtBv9DrGcXFI"
      },
      "source": [
        "# **Feature Scaling**"
      ]
    },
    {
      "cell_type": "code",
      "metadata": {
        "id": "wM2_h6g0qjfz"
      },
      "source": [
        "dataset = pd.get_dummies(heart, columns = ['cp',  'ca']) #categorical data\n",
        "from sklearn.model_selection import train_test_split\n",
        "from sklearn.preprocessing import StandardScaler\n",
        "standardScaler = StandardScaler()\n",
        "columns_to_scale = ['chol',  'thalach', 'oldpeak', 'exang']\n",
        "dataset[columns_to_scale] = standardScaler.fit_transform(dataset[columns_to_scale])\n",
        "dataset = dataset.drop(['age','sex','fbs','restecg','thal','slope','trestbps'],axis=1)"
      ],
      "execution_count": 14,
      "outputs": []
    },
    {
      "cell_type": "code",
      "metadata": {
        "colab": {
          "base_uri": "https://localhost:8080/",
          "height": 195
        },
        "id": "W_6QerEjr6gB",
        "outputId": "f8341972-ba32-4e4f-e77f-ca0f3a5317e6"
      },
      "source": [
        "dataset.head()"
      ],
      "execution_count": 15,
      "outputs": [
        {
          "output_type": "execute_result",
          "data": {
            "text/html": [
              "<div>\n",
              "<style scoped>\n",
              "    .dataframe tbody tr th:only-of-type {\n",
              "        vertical-align: middle;\n",
              "    }\n",
              "\n",
              "    .dataframe tbody tr th {\n",
              "        vertical-align: top;\n",
              "    }\n",
              "\n",
              "    .dataframe thead th {\n",
              "        text-align: right;\n",
              "    }\n",
              "</style>\n",
              "<table border=\"1\" class=\"dataframe\">\n",
              "  <thead>\n",
              "    <tr style=\"text-align: right;\">\n",
              "      <th></th>\n",
              "      <th>chol</th>\n",
              "      <th>thalach</th>\n",
              "      <th>exang</th>\n",
              "      <th>oldpeak</th>\n",
              "      <th>target</th>\n",
              "      <th>cp_0.0</th>\n",
              "      <th>cp_1.0</th>\n",
              "      <th>cp_2.0</th>\n",
              "      <th>cp_3.0</th>\n",
              "      <th>ca_0.0</th>\n",
              "      <th>ca_1.0</th>\n",
              "      <th>ca_2.0</th>\n",
              "      <th>ca_3.0</th>\n",
              "      <th>ca_4.0</th>\n",
              "    </tr>\n",
              "  </thead>\n",
              "  <tbody>\n",
              "    <tr>\n",
              "      <th>0</th>\n",
              "      <td>-0.256334</td>\n",
              "      <td>0.015443</td>\n",
              "      <td>-0.696631</td>\n",
              "      <td>1.087338</td>\n",
              "      <td>1.0</td>\n",
              "      <td>0</td>\n",
              "      <td>0</td>\n",
              "      <td>0</td>\n",
              "      <td>1</td>\n",
              "      <td>1</td>\n",
              "      <td>0</td>\n",
              "      <td>0</td>\n",
              "      <td>0</td>\n",
              "      <td>0</td>\n",
              "    </tr>\n",
              "    <tr>\n",
              "      <th>1</th>\n",
              "      <td>0.072199</td>\n",
              "      <td>1.633471</td>\n",
              "      <td>-0.696631</td>\n",
              "      <td>2.122573</td>\n",
              "      <td>1.0</td>\n",
              "      <td>0</td>\n",
              "      <td>0</td>\n",
              "      <td>1</td>\n",
              "      <td>0</td>\n",
              "      <td>1</td>\n",
              "      <td>0</td>\n",
              "      <td>0</td>\n",
              "      <td>0</td>\n",
              "      <td>0</td>\n",
              "    </tr>\n",
              "    <tr>\n",
              "      <th>2</th>\n",
              "      <td>-0.816773</td>\n",
              "      <td>0.977514</td>\n",
              "      <td>-0.696631</td>\n",
              "      <td>0.310912</td>\n",
              "      <td>1.0</td>\n",
              "      <td>0</td>\n",
              "      <td>1</td>\n",
              "      <td>0</td>\n",
              "      <td>0</td>\n",
              "      <td>1</td>\n",
              "      <td>0</td>\n",
              "      <td>0</td>\n",
              "      <td>0</td>\n",
              "      <td>0</td>\n",
              "    </tr>\n",
              "    <tr>\n",
              "      <th>3</th>\n",
              "      <td>-0.198357</td>\n",
              "      <td>1.239897</td>\n",
              "      <td>-0.696631</td>\n",
              "      <td>-0.206705</td>\n",
              "      <td>1.0</td>\n",
              "      <td>0</td>\n",
              "      <td>1</td>\n",
              "      <td>0</td>\n",
              "      <td>0</td>\n",
              "      <td>1</td>\n",
              "      <td>0</td>\n",
              "      <td>0</td>\n",
              "      <td>0</td>\n",
              "      <td>0</td>\n",
              "    </tr>\n",
              "    <tr>\n",
              "      <th>4</th>\n",
              "      <td>2.082050</td>\n",
              "      <td>0.583939</td>\n",
              "      <td>1.435481</td>\n",
              "      <td>-0.379244</td>\n",
              "      <td>1.0</td>\n",
              "      <td>1</td>\n",
              "      <td>0</td>\n",
              "      <td>0</td>\n",
              "      <td>0</td>\n",
              "      <td>1</td>\n",
              "      <td>0</td>\n",
              "      <td>0</td>\n",
              "      <td>0</td>\n",
              "      <td>0</td>\n",
              "    </tr>\n",
              "  </tbody>\n",
              "</table>\n",
              "</div>"
            ],
            "text/plain": [
              "       chol   thalach     exang   oldpeak  ...  ca_1.0  ca_2.0  ca_3.0  ca_4.0\n",
              "0 -0.256334  0.015443 -0.696631  1.087338  ...       0       0       0       0\n",
              "1  0.072199  1.633471 -0.696631  2.122573  ...       0       0       0       0\n",
              "2 -0.816773  0.977514 -0.696631  0.310912  ...       0       0       0       0\n",
              "3 -0.198357  1.239897 -0.696631 -0.206705  ...       0       0       0       0\n",
              "4  2.082050  0.583939  1.435481 -0.379244  ...       0       0       0       0\n",
              "\n",
              "[5 rows x 14 columns]"
            ]
          },
          "metadata": {
            "tags": []
          },
          "execution_count": 15
        }
      ]
    },
    {
      "cell_type": "markdown",
      "metadata": {
        "id": "EpZO6rgDcsQm"
      },
      "source": [
        "# **Splitting the Dataset**"
      ]
    },
    {
      "cell_type": "code",
      "metadata": {
        "colab": {
          "base_uri": "https://localhost:8080/"
        },
        "id": "-VdvvejpKDj7",
        "outputId": "9c3d8e94-8f1b-46d8-d755-6a0173cf1fc4"
      },
      "source": [
        "from sklearn.model_selection import train_test_split\n",
        "train_set, test_set  = train_test_split(dataset, test_size=0.3, random_state=42)\n",
        "print(f\"Rows in train set: {len(train_set)}\\nRows in test set: {len(test_set)}\\n\")"
      ],
      "execution_count": 16,
      "outputs": [
        {
          "output_type": "stream",
          "text": [
            "Rows in train set: 212\n",
            "Rows in test set: 91\n",
            "\n"
          ],
          "name": "stdout"
        }
      ]
    },
    {
      "cell_type": "code",
      "metadata": {
        "id": "KIM_gV4cKTOY"
      },
      "source": [
        "X_train = train_set.iloc[:,0:13]  #independent columns for training \n",
        "y_train = train_set.iloc[:,-1]    #o/p for train set\n",
        "X_test = test_set.iloc[:,0:13]    #independent columns for testing \n",
        "y_test = test_set.iloc[:,-1]       #o/p for test set"
      ],
      "execution_count": 17,
      "outputs": []
    },
    {
      "cell_type": "code",
      "metadata": {
        "id": "O44IhKcF0UuU"
      },
      "source": [
        "from sklearn.model_selection import GridSearchCV\n",
        "from sklearn.metrics import confusion_matrix\n",
        "from sklearn.metrics import accuracy_score\n",
        "from sklearn.metrics import f1_score\n",
        "from sklearn.metrics import classification_report\n",
        "from sklearn.metrics import recall_score,precision_score,classification_report,roc_auc_score,roc_curve"
      ],
      "execution_count": 18,
      "outputs": []
    },
    {
      "cell_type": "markdown",
      "metadata": {
        "id": "5GniLmIHv8wj"
      },
      "source": [
        "# **K-Nearest Neighbours (K-NN) Model**"
      ]
    },
    {
      "cell_type": "code",
      "metadata": {
        "colab": {
          "base_uri": "https://localhost:8080/",
          "height": 438
        },
        "id": "8KYkRPHkL91G",
        "outputId": "edf88f65-26c4-4634-9ddc-aea3349ab588"
      },
      "source": [
        "from sklearn.neighbors import KNeighborsClassifier\n",
        "error_rate = []\n",
        "for i in range(1,50): \n",
        "    knn = KNeighborsClassifier(n_neighbors=i)\n",
        "    knn.fit(X_train,y_train)\n",
        "    pred_i = knn.predict(X_test)\n",
        "    error_rate.append(np.mean(pred_i != y_test))\n",
        "  \n",
        "\n",
        "min = (np.argmin(error_rate) +1)\n",
        "print(min)\n",
        "plt.figure(figsize=(10,6))\n",
        "plt.plot(range(1,50),error_rate,color='blue', linestyle='dashed', marker='o', markerfacecolor='red', markersize=10)\n",
        "plt.title('Error Rate vs. K Value')\n",
        "plt.xlabel('K')\n",
        "plt.ylabel('Error Rate')\n"
      ],
      "execution_count": 19,
      "outputs": [
        {
          "output_type": "stream",
          "text": [
            "1\n"
          ],
          "name": "stdout"
        },
        {
          "output_type": "execute_result",
          "data": {
            "text/plain": [
              "Text(0, 0.5, 'Error Rate')"
            ]
          },
          "metadata": {
            "tags": []
          },
          "execution_count": 19
        },
        {
          "output_type": "display_data",
          "data": {
            "image/png": "[encoded data removed]",
            "text/plain": [
              "<Figure size 720x432 with 1 Axes>"
            ]
          },
          "metadata": {
            "tags": [],
            "needs_background": "light"
          }
        }
      ]
    },
    {
      "cell_type": "code",
      "metadata": {
        "colab": {
          "base_uri": "https://localhost:8080/"
        },
        "id": "rztaNHG3OjPB",
        "outputId": "eb911f45-2bea-480d-f1b6-05c0fd7c52bd"
      },
      "source": [
        "knn = KNeighborsClassifier(n_neighbors=(min))\n",
        "#train the model\n",
        "knn.fit(X_train,y_train)\n",
        "pred = knn.predict(X_test)\n",
        "print('WITH MIN K = ', min)\n",
        "print('\\n')\n",
        "#prediction \n",
        "print(confusion_matrix(y_test,pred))\n",
        "print('\\n')\n",
        "print(classification_report(y_test,pred))\n",
        "knn_accuracy = accuracy_score(y_test,pred)"
      ],
      "execution_count": 20,
      "outputs": [
        {
          "output_type": "stream",
          "text": [
            "WITH MIN K =  1\n",
            "\n",
            "\n",
            "[[86  1]\n",
            " [ 2  2]]\n",
            "\n",
            "\n",
            "              precision    recall  f1-score   support\n",
            "\n",
            "           0       0.98      0.99      0.98        87\n",
            "           1       0.67      0.50      0.57         4\n",
            "\n",
            "    accuracy                           0.97        91\n",
            "   macro avg       0.82      0.74      0.78        91\n",
            "weighted avg       0.96      0.97      0.96        91\n",
            "\n"
          ],
          "name": "stdout"
        }
      ]
    },
    {
      "cell_type": "markdown",
      "metadata": {
        "id": "qgx_1sMowG8G"
      },
      "source": [
        "## **Support Vector Machine (SVM) Model**"
      ]
    },
    {
      "cell_type": "code",
      "metadata": {
        "id": "ctWNyCrY5KBJ"
      },
      "source": [
        "from sklearn import svm\n",
        "from sklearn.svm import SVC\n",
        "clf = svm.SVC(kernel='linear')\n",
        "clf.fit(X_train, y_train)\n",
        "y_pred = clf.predict(X_test)"
      ],
      "execution_count": 21,
      "outputs": []
    },
    {
      "cell_type": "code",
      "metadata": {
        "colab": {
          "base_uri": "https://localhost:8080/"
        },
        "id": "82AyxZo6gOw2",
        "outputId": "1b3e4537-25d0-46c0-cdde-5d4975ded75d"
      },
      "source": [
        "from sklearn import metrics\n",
        "print(\"Accuracy:\",metrics.accuracy_score(y_test, y_pred))"
      ],
      "execution_count": 22,
      "outputs": [
        {
          "output_type": "stream",
          "text": [
            "Accuracy: 0.9560439560439561\n"
          ],
          "name": "stdout"
        }
      ]
    },
    {
      "cell_type": "code",
      "metadata": {
        "colab": {
          "base_uri": "https://localhost:8080/"
        },
        "id": "IS7Gn513ii12",
        "outputId": "2c571dcd-16f5-4bb3-a587-94afc9ee8bc5"
      },
      "source": [
        "Cs = [0.001, 0.01, 0.1, 1, 10] #Hyperparameter1\n",
        "gammas = [0.001, 0.01, 0.1, 10] #Hyperparameter2\n",
        "param_grid = {'C': Cs, 'gamma' : gammas}\n",
        "svm_clf = GridSearchCV(SVC(kernel='rbf', probability=True), param_grid, cv=10)\n",
        "# train the model\n",
        "svm_clf.fit(X_train,y_train)\n",
        "svm_clf.best_params_"
      ],
      "execution_count": 23,
      "outputs": [
        {
          "output_type": "execute_result",
          "data": {
            "text/plain": [
              "{'C': 0.001, 'gamma': 0.001}"
            ]
          },
          "metadata": {
            "tags": []
          },
          "execution_count": 23
        }
      ]
    },
    {
      "cell_type": "code",
      "metadata": {
        "colab": {
          "base_uri": "https://localhost:8080/"
        },
        "id": "KHIOMuval0t6",
        "outputId": "50408b3b-caf0-47d4-bbd8-f508cb289c74"
      },
      "source": [
        "#prediction\n",
        "svm_predict = svm_clf.predict(X_test)\n",
        "#accuracy\n",
        "svm_accuracy = accuracy_score(y_test,svm_predict)\n",
        "print(f\"Using SVM with RBF kernel we get an accuracy of {round(svm_accuracy*100,2)}%\")\n"
      ],
      "execution_count": 24,
      "outputs": [
        {
          "output_type": "stream",
          "text": [
            "Using SVM with RBF kernel we get an accuracy of 95.6%\n"
          ],
          "name": "stdout"
        }
      ]
    },
    {
      "cell_type": "code",
      "metadata": {
        "colab": {
          "base_uri": "https://localhost:8080/"
        },
        "id": "aI9aNta-mFT9",
        "outputId": "925a598c-fe9c-4e63-f94f-e3859bd0c951"
      },
      "source": [
        "cm=confusion_matrix(y_test,svm_predict)\n",
        "conf_matrix=pd.DataFrame(data=cm,columns=['Predicted:0','Predicted:1'],index=['Actual:0','Actual:1'])\n",
        "print(\"confusion matrix:\\n\", cm)\n",
        "print(classification_report(y_test,svm_predict))\n"
      ],
      "execution_count": 25,
      "outputs": [
        {
          "output_type": "stream",
          "text": [
            "confusion matrix:\n",
            " [[87  0]\n",
            " [ 4  0]]\n",
            "              precision    recall  f1-score   support\n",
            "\n",
            "           0       0.96      1.00      0.98        87\n",
            "           1       0.00      0.00      0.00         4\n",
            "\n",
            "    accuracy                           0.96        91\n",
            "   macro avg       0.48      0.50      0.49        91\n",
            "weighted avg       0.91      0.96      0.93        91\n",
            "\n"
          ],
          "name": "stdout"
        }
      ]
    },
    {
      "cell_type": "markdown",
      "metadata": {
        "id": "06EcpG3Awp1A"
      },
      "source": [
        "# **Random Forest Classification (RFC) Model**"
      ]
    },
    {
      "cell_type": "code",
      "metadata": {
        "colab": {
          "base_uri": "https://localhost:8080/"
        },
        "id": "QH-U28SWmfoh",
        "outputId": "357252a0-65ba-4e1f-84cb-576c46e225d4"
      },
      "source": [
        "from sklearn.ensemble import RandomForestClassifier\n",
        "classifier = RandomForestClassifier(n_estimators=25 ,criterion='entropy', random_state=42)\n",
        "#train the model\n",
        "classifier.fit(X_train,y_train)\n",
        "#prediction\n",
        "y_pred=classifier.predict(X_test)\n",
        "cm = confusion_matrix(y_test, y_pred)\n",
        "from sklearn.metrics import accuracy_score \n",
        "rfc_accuracy = accuracy_score(y_test, y_pred)\n",
        "print (\"Accuracy : \", accuracy_score(y_test, y_pred))\n",
        "print(\"confusion matrix:\\n\", cm)"
      ],
      "execution_count": 26,
      "outputs": [
        {
          "output_type": "stream",
          "text": [
            "Accuracy :  0.967032967032967\n",
            "confusion matrix:\n",
            " [[87  0]\n",
            " [ 3  1]]\n"
          ],
          "name": "stdout"
        }
      ]
    },
    {
      "cell_type": "markdown",
      "metadata": {
        "id": "VUK3KRc9AY5p"
      },
      "source": [
        "# **Logistic Regression Method**"
      ]
    },
    {
      "cell_type": "code",
      "metadata": {
        "id": "8qvqZO47T8MN"
      },
      "source": [
        "######Logistic Regression Method\n",
        "\n",
        "from sklearn.linear_model import LogisticRegression\n",
        "from sklearn.model_selection import GridSearchCV, StratifiedKFold\n",
        "from sklearn.metrics import confusion_matrix\n",
        "from sklearn.metrics import accuracy_score\n",
        "from sklearn.metrics import f1_score\n",
        "from sklearn.metrics import classification_report\n",
        "from sklearn.metrics import recall_score,precision_score,classification_report,roc_auc_score,roc_curve"
      ],
      "execution_count": 27,
      "outputs": []
    },
    {
      "cell_type": "code",
      "metadata": {
        "colab": {
          "base_uri": "https://localhost:8080/"
        },
        "id": "Ka9vfnf4eoZb",
        "outputId": "2dc5fcbc-54d7-436a-d6e1-4a68b0984188"
      },
      "source": [
        "lr = LogisticRegression()\n",
        "model = lr.fit(X_train, y_train)\n",
        "lr_predict = lr.predict(X_test)\n",
        "lr_conf_matrix = confusion_matrix(y_test, lr_predict)\n",
        "lr_accuracy = accuracy_score(y_test, lr_predict)\n",
        "print(\"confussion matrix\")\n",
        "print(lr_conf_matrix)\n",
        "print(\"\\n\")\n",
        "print(\"Accuracy of Logistic Regression:\",lr_accuracy*100,'\\n')\n",
        "print(classification_report(y_test,lr_predict))"
      ],
      "execution_count": 28,
      "outputs": [
        {
          "output_type": "stream",
          "text": [
            "confussion matrix\n",
            "[[87  0]\n",
            " [ 4  0]]\n",
            "\n",
            "\n",
            "Accuracy of Logistic Regression: 95.6043956043956 \n",
            "\n",
            "              precision    recall  f1-score   support\n",
            "\n",
            "           0       0.96      1.00      0.98        87\n",
            "           1       0.00      0.00      0.00         4\n",
            "\n",
            "    accuracy                           0.96        91\n",
            "   macro avg       0.48      0.50      0.49        91\n",
            "weighted avg       0.91      0.96      0.93        91\n",
            "\n"
          ],
          "name": "stdout"
        }
      ]
    },
    {
      "cell_type": "markdown",
      "metadata": {
        "id": "s55SfIg2AtH-"
      },
      "source": [
        "# **Cross Validation**"
      ]
    },
    {
      "cell_type": "code",
      "metadata": {
        "id": "A_j1ykO80Qa-"
      },
      "source": [
        "##K folds\n",
        "from numpy import mean\n",
        "from numpy import std\n",
        "from sklearn.datasets import make_classification\n",
        "from sklearn.model_selection import RepeatedKFold\n",
        "from sklearn.model_selection import cross_val_score\n",
        "# create dataset\n",
        "X, y = make_classification(n_samples=1000, n_features=20, n_informative=15, n_redundant=5, random_state=1)\n",
        "# prepare the cross-validation procedure\n",
        "cv = RepeatedKFold(n_splits=10, n_repeats=3, random_state=1)"
      ],
      "execution_count": 29,
      "outputs": []
    },
    {
      "cell_type": "code",
      "metadata": {
        "colab": {
          "base_uri": "https://localhost:8080/"
        },
        "id": "JO9bKQt36-T0",
        "outputId": "8105a113-3dd1-462a-e028-a17db883a365"
      },
      "source": [
        "##CV score for logistic regression\n",
        "model = LogisticRegression()\n",
        "# evaluate model\n",
        "scores = cross_val_score(model, X, y, scoring='accuracy', cv=cv, n_jobs=-1)\n",
        "# report performance\n",
        "cv_score_lr = scores.mean()\n",
        "print('cv_score: %.3f (%.3f)' % (mean(scores), std(scores)))\n"
      ],
      "execution_count": 30,
      "outputs": [
        {
          "output_type": "stream",
          "text": [
            "cv_score: 0.867 (0.031)\n"
          ],
          "name": "stdout"
        }
      ]
    },
    {
      "cell_type": "code",
      "metadata": {
        "colab": {
          "base_uri": "https://localhost:8080/"
        },
        "id": "ZMApdPdv7lnp",
        "outputId": "041395aa-fa4f-4cb4-cad6-7a5fa81b13e3"
      },
      "source": [
        "##CV score for Random Forest\n",
        "model = RandomForestClassifier()\n",
        "# evaluate model\n",
        "scores = cross_val_score(model, X, y, scoring='accuracy', cv=cv, n_jobs=-1)\n",
        "# report performance\n",
        "cv_score_rfc = scores.mean()\n",
        "print('cv_score: %.3f (%.3f)' % (mean(scores), std(scores)))\n"
      ],
      "execution_count": 31,
      "outputs": [
        {
          "output_type": "stream",
          "text": [
            "cv_score: 0.919 (0.028)\n"
          ],
          "name": "stdout"
        }
      ]
    },
    {
      "cell_type": "code",
      "metadata": {
        "colab": {
          "base_uri": "https://localhost:8080/"
        },
        "id": "y2M8EFmY8r4o",
        "outputId": "3b570fd0-eb18-4ed8-e7c5-071cfaed9be4"
      },
      "source": [
        "##CV score for SVM\n",
        "clf = svm.SVC(kernel='linear', C=1, random_state=42)\n",
        "scores = cross_val_score(clf, X, y, cv=cv)\n",
        "cv_score_svm = scores.mean()\n",
        "print('cv_score: %.3f (%.3f)' % (mean(scores), std(scores)))"
      ],
      "execution_count": 32,
      "outputs": [
        {
          "output_type": "stream",
          "text": [
            "cv_score: 0.870 (0.034)\n"
          ],
          "name": "stdout"
        }
      ]
    },
    {
      "cell_type": "code",
      "metadata": {
        "colab": {
          "base_uri": "https://localhost:8080/"
        },
        "id": "Miebyy_E9QjD",
        "outputId": "945a4a01-928e-4388-9c6f-6a98b8ddbafa"
      },
      "source": [
        "##CV score for KNN\n",
        "knn_classifier = KNeighborsClassifier(n_neighbors = 18)\n",
        "score=cross_val_score(knn_classifier,X,y,cv=cv)\n",
        "cv_score_knn = score.mean()\n",
        "print('cv_score: %.3f (%.3f)' % (mean(scores), std(scores)))"
      ],
      "execution_count": 33,
      "outputs": [
        {
          "output_type": "stream",
          "text": [
            "cv_score: 0.870 (0.034)\n"
          ],
          "name": "stdout"
        }
      ]
    },
    {
      "cell_type": "code",
      "metadata": {
        "colab": {
          "base_uri": "https://localhost:8080/",
          "height": 312
        },
        "id": "9HDWY7innFGU",
        "outputId": "03b4afe2-b1c3-4592-ac74-7d3c202d5481"
      },
      "source": [
        "##plotting cv scores of respective models\n",
        "cv_result = []\n",
        "cv_result.append(cv_score_svm)\n",
        "cv_result.append(cv_score_rfc)\n",
        "cv_result.append(cv_score_lr)\n",
        "cv_result.append(cv_score_knn)\n",
        "cv_results = pd.DataFrame(cv_result)\n",
        "print(cv_result)\n",
        "cv_results = pd.DataFrame({\"Cross Validation Means\":cv_result, \"ML Models\":[ \"SVC\", \"RandomForestClassifier\", \"LogisticRegression\", \"KNeigborsClassifier\"]})\n",
        "\n",
        "g = sns.barplot(x=\"Cross Validation Means\", y = \"ML Models\", data=cv_results)\n",
        "g.set_xlabel(\"Means Accuracy\")\n",
        "g.set_title(\"Cross Validation Scores\")\n",
        "plt.show()"
      ],
      "execution_count": 34,
      "outputs": [
        {
          "output_type": "stream",
          "text": [
            "[0.87, 0.9193333333333332, 0.8673333333333334, 0.9233333333333335]\n"
          ],
          "name": "stdout"
        },
        {
          "output_type": "display_data",
          "data": {
            "image/png": "[encoded data removed]",
            "text/plain": [
              "<Figure size 432x288 with 1 Axes>"
            ]
          },
          "metadata": {
            "tags": [],
            "needs_background": "light"
          }
        }
      ]
    },
    {
      "cell_type": "code",
      "metadata": {
        "colab": {
          "base_uri": "https://localhost:8080/",
          "height": 435
        },
        "id": "jhiMRBzY_b7A",
        "outputId": "52ec6d8d-0032-4f6b-fda4-b4272a0f568b"
      },
      "source": [
        "comparison = pd.DataFrame({\n",
        "    \"Logistic regression \":{'Accuracy': lr_accuracy},\n",
        "    \"K-nearest neighbours \":{'Accuracy':knn_accuracy},\n",
        "    \"Random Forest \":{'Accuracy':rfc_accuracy},\n",
        "    \"Support vector machine \":{'Accuracy':svm_accuracy}\n",
        "}).T\n",
        "fig = plt.gcf()\n",
        "fig.set_size_inches(15, 15)\n",
        "titles = ['Accuracy']\n",
        "for title,label in enumerate(comparison.columns):\n",
        "    plt.subplot(2,2,title+1)\n",
        "    sns.barplot(x=comparison.index, y = comparison[label], data=comparison)\n",
        "    plt.xticks(fontsize=10)\n",
        "    plt.title(titles[title])\n",
        "plt.show()"
      ],
      "execution_count": 35,
      "outputs": [
        {
          "output_type": "display_data",
          "data": {
            "image/png": "[encoded data removed]",
            "text/plain": [
              "<Figure size 1080x1080 with 1 Axes>"
            ]
          },
          "metadata": {
            "tags": [],
            "needs_background": "light"
          }
        }
      ]
    }
  ]
}